{
 "cells": [
  {
   "cell_type": "markdown",
   "id": "e36a07bb",
   "metadata": {},
   "source": [
    "# Get the data"
   ]
  },
  {
   "cell_type": "code",
   "execution_count": 13,
   "id": "4fb4093c",
   "metadata": {},
   "outputs": [],
   "source": [
    "import pandas as pd\n",
    "import os\n",
    "UBER_PATH=os.path.join(\"datasets\")\n",
    "def load_uber_data(uber_path=UBER_PATH):\n",
    "    csv_path = os.path.join(uber_path,\"UberDataSet.csv\")\n",
    "    return pd.read_csv(csv_path)"
   ]
  },
  {
   "cell_type": "code",
   "execution_count": 14,
   "id": "0767caaa",
   "metadata": {},
   "outputs": [
    {
     "data": {
      "text/html": [
       "<div>\n",
       "<style scoped>\n",
       "    .dataframe tbody tr th:only-of-type {\n",
       "        vertical-align: middle;\n",
       "    }\n",
       "\n",
       "    .dataframe tbody tr th {\n",
       "        vertical-align: top;\n",
       "    }\n",
       "\n",
       "    .dataframe thead th {\n",
       "        text-align: right;\n",
       "    }\n",
       "</style>\n",
       "<table border=\"1\" class=\"dataframe\">\n",
       "  <thead>\n",
       "    <tr style=\"text-align: right;\">\n",
       "      <th></th>\n",
       "      <th>Unnamed: 0</th>\n",
       "      <th>id</th>\n",
       "      <th>timestamp</th>\n",
       "      <th>hour</th>\n",
       "      <th>day</th>\n",
       "      <th>month</th>\n",
       "      <th>datetime</th>\n",
       "      <th>timezone</th>\n",
       "      <th>source</th>\n",
       "      <th>destination</th>\n",
       "      <th>...</th>\n",
       "      <th>precipIntensityMax</th>\n",
       "      <th>uvIndexTime</th>\n",
       "      <th>temperatureMin</th>\n",
       "      <th>temperatureMinTime</th>\n",
       "      <th>temperatureMax</th>\n",
       "      <th>temperatureMaxTime</th>\n",
       "      <th>apparentTemperatureMin</th>\n",
       "      <th>apparentTemperatureMinTime</th>\n",
       "      <th>apparentTemperatureMax</th>\n",
       "      <th>apparentTemperatureMaxTime</th>\n",
       "    </tr>\n",
       "  </thead>\n",
       "  <tbody>\n",
       "    <tr>\n",
       "      <th>0</th>\n",
       "      <td>12</td>\n",
       "      <td>009e9c53-074d-43cf-aef2-0fbc7a47ed3d</td>\n",
       "      <td>1.543616e+09</td>\n",
       "      <td>22</td>\n",
       "      <td>30</td>\n",
       "      <td>11</td>\n",
       "      <td>2018-11-30 22:13:01</td>\n",
       "      <td>America/New_York</td>\n",
       "      <td>North End</td>\n",
       "      <td>West End</td>\n",
       "      <td>...</td>\n",
       "      <td>0.0003</td>\n",
       "      <td>1543593600</td>\n",
       "      <td>28.79</td>\n",
       "      <td>1543579200</td>\n",
       "      <td>42.52</td>\n",
       "      <td>1543600800</td>\n",
       "      <td>26.41</td>\n",
       "      <td>1543575600</td>\n",
       "      <td>40.53</td>\n",
       "      <td>1543611600</td>\n",
       "    </tr>\n",
       "    <tr>\n",
       "      <th>1</th>\n",
       "      <td>13</td>\n",
       "      <td>23f145da-f0c1-4d1f-a184-496bc003a7db</td>\n",
       "      <td>1.544698e+09</td>\n",
       "      <td>10</td>\n",
       "      <td>13</td>\n",
       "      <td>12</td>\n",
       "      <td>2018-12-13 10:50:11</td>\n",
       "      <td>America/New_York</td>\n",
       "      <td>North End</td>\n",
       "      <td>West End</td>\n",
       "      <td>...</td>\n",
       "      <td>0.0001</td>\n",
       "      <td>1544716800</td>\n",
       "      <td>18.29</td>\n",
       "      <td>1544688000</td>\n",
       "      <td>33.83</td>\n",
       "      <td>1544731200</td>\n",
       "      <td>13.79</td>\n",
       "      <td>1544688000</td>\n",
       "      <td>32.85</td>\n",
       "      <td>1544734800</td>\n",
       "    </tr>\n",
       "    <tr>\n",
       "      <th>2</th>\n",
       "      <td>14</td>\n",
       "      <td>357559cb-8c58-4278-a41a-e33b2e0997a3</td>\n",
       "      <td>1.544729e+09</td>\n",
       "      <td>19</td>\n",
       "      <td>13</td>\n",
       "      <td>12</td>\n",
       "      <td>2018-12-13 19:15:03</td>\n",
       "      <td>America/New_York</td>\n",
       "      <td>North End</td>\n",
       "      <td>West End</td>\n",
       "      <td>...</td>\n",
       "      <td>0.0001</td>\n",
       "      <td>1544716800</td>\n",
       "      <td>18.29</td>\n",
       "      <td>1544688000</td>\n",
       "      <td>33.83</td>\n",
       "      <td>1544731200</td>\n",
       "      <td>13.79</td>\n",
       "      <td>1544688000</td>\n",
       "      <td>32.85</td>\n",
       "      <td>1544734800</td>\n",
       "    </tr>\n",
       "    <tr>\n",
       "      <th>3</th>\n",
       "      <td>15</td>\n",
       "      <td>50ef1165-9d23-416c-a65c-18906207b295</td>\n",
       "      <td>1.545005e+09</td>\n",
       "      <td>23</td>\n",
       "      <td>16</td>\n",
       "      <td>12</td>\n",
       "      <td>2018-12-16 23:55:11</td>\n",
       "      <td>America/New_York</td>\n",
       "      <td>North End</td>\n",
       "      <td>West End</td>\n",
       "      <td>...</td>\n",
       "      <td>0.1252</td>\n",
       "      <td>1544979600</td>\n",
       "      <td>39.22</td>\n",
       "      <td>1544954400</td>\n",
       "      <td>43.83</td>\n",
       "      <td>1544990400</td>\n",
       "      <td>33.98</td>\n",
       "      <td>1545019200</td>\n",
       "      <td>38.38</td>\n",
       "      <td>1544986800</td>\n",
       "    </tr>\n",
       "    <tr>\n",
       "      <th>4</th>\n",
       "      <td>16</td>\n",
       "      <td>91c4861c-1780-42b0-bca1-bbd64a422cc3</td>\n",
       "      <td>1.544748e+09</td>\n",
       "      <td>0</td>\n",
       "      <td>14</td>\n",
       "      <td>12</td>\n",
       "      <td>2018-12-14 00:40:07</td>\n",
       "      <td>America/New_York</td>\n",
       "      <td>North End</td>\n",
       "      <td>West End</td>\n",
       "      <td>...</td>\n",
       "      <td>0.0001</td>\n",
       "      <td>1544716800</td>\n",
       "      <td>18.29</td>\n",
       "      <td>1544688000</td>\n",
       "      <td>33.83</td>\n",
       "      <td>1544731200</td>\n",
       "      <td>13.79</td>\n",
       "      <td>1544688000</td>\n",
       "      <td>32.85</td>\n",
       "      <td>1544734800</td>\n",
       "    </tr>\n",
       "  </tbody>\n",
       "</table>\n",
       "<p>5 rows × 58 columns</p>\n",
       "</div>"
      ],
      "text/plain": [
       "   Unnamed: 0                                    id     timestamp  hour  day  \\\n",
       "0          12  009e9c53-074d-43cf-aef2-0fbc7a47ed3d  1.543616e+09    22   30   \n",
       "1          13  23f145da-f0c1-4d1f-a184-496bc003a7db  1.544698e+09    10   13   \n",
       "2          14  357559cb-8c58-4278-a41a-e33b2e0997a3  1.544729e+09    19   13   \n",
       "3          15  50ef1165-9d23-416c-a65c-18906207b295  1.545005e+09    23   16   \n",
       "4          16  91c4861c-1780-42b0-bca1-bbd64a422cc3  1.544748e+09     0   14   \n",
       "\n",
       "   month             datetime          timezone     source destination  ...  \\\n",
       "0     11  2018-11-30 22:13:01  America/New_York  North End    West End  ...   \n",
       "1     12  2018-12-13 10:50:11  America/New_York  North End    West End  ...   \n",
       "2     12  2018-12-13 19:15:03  America/New_York  North End    West End  ...   \n",
       "3     12  2018-12-16 23:55:11  America/New_York  North End    West End  ...   \n",
       "4     12  2018-12-14 00:40:07  America/New_York  North End    West End  ...   \n",
       "\n",
       "  precipIntensityMax uvIndexTime temperatureMin  temperatureMinTime  \\\n",
       "0             0.0003  1543593600          28.79          1543579200   \n",
       "1             0.0001  1544716800          18.29          1544688000   \n",
       "2             0.0001  1544716800          18.29          1544688000   \n",
       "3             0.1252  1544979600          39.22          1544954400   \n",
       "4             0.0001  1544716800          18.29          1544688000   \n",
       "\n",
       "   temperatureMax  temperatureMaxTime  apparentTemperatureMin  \\\n",
       "0           42.52          1543600800                   26.41   \n",
       "1           33.83          1544731200                   13.79   \n",
       "2           33.83          1544731200                   13.79   \n",
       "3           43.83          1544990400                   33.98   \n",
       "4           33.83          1544731200                   13.79   \n",
       "\n",
       "   apparentTemperatureMinTime  apparentTemperatureMax  \\\n",
       "0                  1543575600                   40.53   \n",
       "1                  1544688000                   32.85   \n",
       "2                  1544688000                   32.85   \n",
       "3                  1545019200                   38.38   \n",
       "4                  1544688000                   32.85   \n",
       "\n",
       "   apparentTemperatureMaxTime  \n",
       "0                  1543611600  \n",
       "1                  1544734800  \n",
       "2                  1544734800  \n",
       "3                  1544986800  \n",
       "4                  1544734800  \n",
       "\n",
       "[5 rows x 58 columns]"
      ]
     },
     "execution_count": 14,
     "metadata": {},
     "output_type": "execute_result"
    }
   ],
   "source": [
    "uber_data=load_uber_data()\n",
    "uber_data.head()"
   ]
  },
  {
   "cell_type": "code",
   "execution_count": 15,
   "id": "886a69e7",
   "metadata": {
    "scrolled": true
   },
   "outputs": [
    {
     "name": "stdout",
     "output_type": "stream",
     "text": [
      "<class 'pandas.core.frame.DataFrame'>\n",
      "RangeIndex: 385663 entries, 0 to 385662\n",
      "Data columns (total 58 columns):\n",
      " #   Column                       Non-Null Count   Dtype  \n",
      "---  ------                       --------------   -----  \n",
      " 0   Unnamed: 0                   385663 non-null  int64  \n",
      " 1   id                           385663 non-null  object \n",
      " 2   timestamp                    385663 non-null  float64\n",
      " 3   hour                         385663 non-null  int64  \n",
      " 4   day                          385663 non-null  int64  \n",
      " 5   month                        385663 non-null  int64  \n",
      " 6   datetime                     385663 non-null  object \n",
      " 7   timezone                     385663 non-null  object \n",
      " 8   source                       385663 non-null  object \n",
      " 9   destination                  385663 non-null  object \n",
      " 10  cab_type                     385663 non-null  object \n",
      " 11  product_id                   385663 non-null  object \n",
      " 12  name                         385663 non-null  object \n",
      " 13  price                        330568 non-null  float64\n",
      " 14  distance                     385663 non-null  float64\n",
      " 15  surge_multiplier             385663 non-null  float64\n",
      " 16  latitude                     385663 non-null  float64\n",
      " 17  longitude                    385663 non-null  float64\n",
      " 18  temperature                  385663 non-null  float64\n",
      " 19  apparentTemperature          385663 non-null  float64\n",
      " 20  short_summary                385663 non-null  object \n",
      " 21  long_summary                 385663 non-null  object \n",
      " 22  precipIntensity              385663 non-null  float64\n",
      " 23  precipProbability            385663 non-null  float64\n",
      " 24  humidity                     385663 non-null  float64\n",
      " 25  windSpeed                    385663 non-null  float64\n",
      " 26  windGust                     385663 non-null  float64\n",
      " 27  windGustTime                 385663 non-null  int64  \n",
      " 28  visibility                   385663 non-null  float64\n",
      " 29  temperatureHigh              385663 non-null  float64\n",
      " 30  temperatureHighTime          385663 non-null  int64  \n",
      " 31  temperatureLow               385663 non-null  float64\n",
      " 32  temperatureLowTime           385663 non-null  int64  \n",
      " 33  apparentTemperatureHigh      385663 non-null  float64\n",
      " 34  apparentTemperatureHighTime  385663 non-null  int64  \n",
      " 35  apparentTemperatureLow       385663 non-null  float64\n",
      " 36  apparentTemperatureLowTime   385663 non-null  int64  \n",
      " 37  icon                         385663 non-null  object \n",
      " 38  dewPoint                     385663 non-null  float64\n",
      " 39  pressure                     385663 non-null  float64\n",
      " 40  windBearing                  385663 non-null  int64  \n",
      " 41  cloudCover                   385663 non-null  float64\n",
      " 42  uvIndex                      385663 non-null  int64  \n",
      " 43  visibility.1                 385663 non-null  float64\n",
      " 44  ozone                        385663 non-null  float64\n",
      " 45  sunriseTime                  385663 non-null  int64  \n",
      " 46  sunsetTime                   385663 non-null  int64  \n",
      " 47  moonPhase                    385663 non-null  float64\n",
      " 48  precipIntensityMax           385663 non-null  float64\n",
      " 49  uvIndexTime                  385663 non-null  int64  \n",
      " 50  temperatureMin               385663 non-null  float64\n",
      " 51  temperatureMinTime           385663 non-null  int64  \n",
      " 52  temperatureMax               385663 non-null  float64\n",
      " 53  temperatureMaxTime           385663 non-null  int64  \n",
      " 54  apparentTemperatureMin       385663 non-null  float64\n",
      " 55  apparentTemperatureMinTime   385663 non-null  int64  \n",
      " 56  apparentTemperatureMax       385663 non-null  float64\n",
      " 57  apparentTemperatureMaxTime   385663 non-null  int64  \n",
      "dtypes: float64(29), int64(18), object(11)\n",
      "memory usage: 170.7+ MB\n"
     ]
    }
   ],
   "source": [
    "uber_data.info()"
   ]
  },
  {
   "cell_type": "code",
   "execution_count": 16,
   "id": "23ca1e19",
   "metadata": {},
   "outputs": [
    {
     "data": {
      "text/plain": [
       "(385663, 58)"
      ]
     },
     "execution_count": 16,
     "metadata": {},
     "output_type": "execute_result"
    }
   ],
   "source": [
    "uber_data.shape"
   ]
  },
  {
   "cell_type": "code",
   "execution_count": 17,
   "id": "efebda59",
   "metadata": {},
   "outputs": [],
   "source": [
    "uber_data=uber_data.drop_duplicates()"
   ]
  },
  {
   "cell_type": "code",
   "execution_count": 18,
   "id": "380852ce",
   "metadata": {},
   "outputs": [
    {
     "data": {
      "text/plain": [
       "(385663, 58)"
      ]
     },
     "execution_count": 18,
     "metadata": {},
     "output_type": "execute_result"
    }
   ],
   "source": [
    "uber_data.shape"
   ]
  },
  {
   "cell_type": "markdown",
   "id": "08b53fe0",
   "metadata": {},
   "source": [
    "# delete the unuseful values"
   ]
  },
  {
   "cell_type": "code",
   "execution_count": 19,
   "id": "ae2206a0",
   "metadata": {},
   "outputs": [
    {
     "data": {
      "text/plain": [
       "1.0    385663\n",
       "Name: surge_multiplier, dtype: int64"
      ]
     },
     "execution_count": 19,
     "metadata": {},
     "output_type": "execute_result"
    }
   ],
   "source": [
    "uber_data[\"surge_multiplier\"].value_counts()"
   ]
  },
  {
   "cell_type": "code",
   "execution_count": 20,
   "id": "fdd0ea62",
   "metadata": {},
   "outputs": [
    {
     "data": {
      "text/plain": [
       "America/New_York    385663\n",
       "Name: timezone, dtype: int64"
      ]
     },
     "execution_count": 20,
     "metadata": {},
     "output_type": "execute_result"
    }
   ],
   "source": [
    "uber_data[\"timezone\"].value_counts()"
   ]
  },
  {
   "cell_type": "code",
   "execution_count": 21,
   "id": "9492b1d3",
   "metadata": {},
   "outputs": [
    {
     "data": {
      "text/plain": [
       "Uber    385663\n",
       "Name: cab_type, dtype: int64"
      ]
     },
     "execution_count": 21,
     "metadata": {},
     "output_type": "execute_result"
    }
   ],
   "source": [
    "uber_data[\"cab_type\"].value_counts()"
   ]
  },
  {
   "cell_type": "code",
   "execution_count": 22,
   "id": "ecc1365c",
   "metadata": {
    "scrolled": true
   },
   "outputs": [
    {
     "name": "stdout",
     "output_type": "stream",
     "text": [
      "<class 'pandas.core.frame.DataFrame'>\n",
      "Int64Index: 385663 entries, 0 to 385662\n",
      "Data columns (total 55 columns):\n",
      " #   Column                       Non-Null Count   Dtype  \n",
      "---  ------                       --------------   -----  \n",
      " 0   Unnamed: 0                   385663 non-null  int64  \n",
      " 1   id                           385663 non-null  object \n",
      " 2   timestamp                    385663 non-null  float64\n",
      " 3   hour                         385663 non-null  int64  \n",
      " 4   day                          385663 non-null  int64  \n",
      " 5   month                        385663 non-null  int64  \n",
      " 6   datetime                     385663 non-null  object \n",
      " 7   source                       385663 non-null  object \n",
      " 8   destination                  385663 non-null  object \n",
      " 9   product_id                   385663 non-null  object \n",
      " 10  name                         385663 non-null  object \n",
      " 11  price                        330568 non-null  float64\n",
      " 12  distance                     385663 non-null  float64\n",
      " 13  latitude                     385663 non-null  float64\n",
      " 14  longitude                    385663 non-null  float64\n",
      " 15  temperature                  385663 non-null  float64\n",
      " 16  apparentTemperature          385663 non-null  float64\n",
      " 17  short_summary                385663 non-null  object \n",
      " 18  long_summary                 385663 non-null  object \n",
      " 19  precipIntensity              385663 non-null  float64\n",
      " 20  precipProbability            385663 non-null  float64\n",
      " 21  humidity                     385663 non-null  float64\n",
      " 22  windSpeed                    385663 non-null  float64\n",
      " 23  windGust                     385663 non-null  float64\n",
      " 24  windGustTime                 385663 non-null  int64  \n",
      " 25  visibility                   385663 non-null  float64\n",
      " 26  temperatureHigh              385663 non-null  float64\n",
      " 27  temperatureHighTime          385663 non-null  int64  \n",
      " 28  temperatureLow               385663 non-null  float64\n",
      " 29  temperatureLowTime           385663 non-null  int64  \n",
      " 30  apparentTemperatureHigh      385663 non-null  float64\n",
      " 31  apparentTemperatureHighTime  385663 non-null  int64  \n",
      " 32  apparentTemperatureLow       385663 non-null  float64\n",
      " 33  apparentTemperatureLowTime   385663 non-null  int64  \n",
      " 34  icon                         385663 non-null  object \n",
      " 35  dewPoint                     385663 non-null  float64\n",
      " 36  pressure                     385663 non-null  float64\n",
      " 37  windBearing                  385663 non-null  int64  \n",
      " 38  cloudCover                   385663 non-null  float64\n",
      " 39  uvIndex                      385663 non-null  int64  \n",
      " 40  visibility.1                 385663 non-null  float64\n",
      " 41  ozone                        385663 non-null  float64\n",
      " 42  sunriseTime                  385663 non-null  int64  \n",
      " 43  sunsetTime                   385663 non-null  int64  \n",
      " 44  moonPhase                    385663 non-null  float64\n",
      " 45  precipIntensityMax           385663 non-null  float64\n",
      " 46  uvIndexTime                  385663 non-null  int64  \n",
      " 47  temperatureMin               385663 non-null  float64\n",
      " 48  temperatureMinTime           385663 non-null  int64  \n",
      " 49  temperatureMax               385663 non-null  float64\n",
      " 50  temperatureMaxTime           385663 non-null  int64  \n",
      " 51  apparentTemperatureMin       385663 non-null  float64\n",
      " 52  apparentTemperatureMinTime   385663 non-null  int64  \n",
      " 53  apparentTemperatureMax       385663 non-null  float64\n",
      " 54  apparentTemperatureMaxTime   385663 non-null  int64  \n",
      "dtypes: float64(28), int64(18), object(9)\n",
      "memory usage: 164.8+ MB\n"
     ]
    }
   ],
   "source": [
    "uber_data = uber_data.drop(['surge_multiplier','timezone','cab_type'], axis=1 )\n",
    "uber_data.info()"
   ]
  },
  {
   "cell_type": "code",
   "execution_count": 23,
   "id": "467ec99d",
   "metadata": {},
   "outputs": [
    {
     "name": "stdout",
     "output_type": "stream",
     "text": [
      "<class 'pandas.core.frame.DataFrame'>\n",
      "Int64Index: 385663 entries, 0 to 385662\n",
      "Data columns (total 43 columns):\n",
      " #   Column                       Non-Null Count   Dtype  \n",
      "---  ------                       --------------   -----  \n",
      " 0   hour                         385663 non-null  int64  \n",
      " 1   day                          385663 non-null  int64  \n",
      " 2   month                        385663 non-null  int64  \n",
      " 3   name                         385663 non-null  object \n",
      " 4   price                        330568 non-null  float64\n",
      " 5   distance                     385663 non-null  float64\n",
      " 6   temperature                  385663 non-null  float64\n",
      " 7   apparentTemperature          385663 non-null  float64\n",
      " 8   precipIntensity              385663 non-null  float64\n",
      " 9   precipProbability            385663 non-null  float64\n",
      " 10  humidity                     385663 non-null  float64\n",
      " 11  windSpeed                    385663 non-null  float64\n",
      " 12  windGust                     385663 non-null  float64\n",
      " 13  windGustTime                 385663 non-null  int64  \n",
      " 14  visibility                   385663 non-null  float64\n",
      " 15  temperatureHigh              385663 non-null  float64\n",
      " 16  temperatureHighTime          385663 non-null  int64  \n",
      " 17  temperatureLow               385663 non-null  float64\n",
      " 18  temperatureLowTime           385663 non-null  int64  \n",
      " 19  apparentTemperatureHigh      385663 non-null  float64\n",
      " 20  apparentTemperatureHighTime  385663 non-null  int64  \n",
      " 21  apparentTemperatureLow       385663 non-null  float64\n",
      " 22  apparentTemperatureLowTime   385663 non-null  int64  \n",
      " 23  dewPoint                     385663 non-null  float64\n",
      " 24  pressure                     385663 non-null  float64\n",
      " 25  windBearing                  385663 non-null  int64  \n",
      " 26  cloudCover                   385663 non-null  float64\n",
      " 27  uvIndex                      385663 non-null  int64  \n",
      " 28  visibility.1                 385663 non-null  float64\n",
      " 29  ozone                        385663 non-null  float64\n",
      " 30  sunriseTime                  385663 non-null  int64  \n",
      " 31  sunsetTime                   385663 non-null  int64  \n",
      " 32  moonPhase                    385663 non-null  float64\n",
      " 33  precipIntensityMax           385663 non-null  float64\n",
      " 34  uvIndexTime                  385663 non-null  int64  \n",
      " 35  temperatureMin               385663 non-null  float64\n",
      " 36  temperatureMinTime           385663 non-null  int64  \n",
      " 37  temperatureMax               385663 non-null  float64\n",
      " 38  temperatureMaxTime           385663 non-null  int64  \n",
      " 39  apparentTemperatureMin       385663 non-null  float64\n",
      " 40  apparentTemperatureMinTime   385663 non-null  int64  \n",
      " 41  apparentTemperatureMax       385663 non-null  float64\n",
      " 42  apparentTemperatureMaxTime   385663 non-null  int64  \n",
      "dtypes: float64(25), int64(17), object(1)\n",
      "memory usage: 129.5+ MB\n"
     ]
    }
   ],
   "source": [
    "uber_data = uber_data.drop(['icon','latitude', 'longitude','source', 'destination','datetime','Unnamed: 0','id','product_id','long_summary','short_summary','timestamp'], axis=1 )\n",
    "uber_data.info()"
   ]
  },
  {
   "cell_type": "markdown",
   "id": "4148edd8",
   "metadata": {},
   "source": [
    "# missing values"
   ]
  },
  {
   "cell_type": "code",
   "execution_count": 24,
   "id": "c25438a4",
   "metadata": {},
   "outputs": [
    {
     "data": {
      "text/plain": [
       "0     12.0\n",
       "1     16.0\n",
       "2      7.5\n",
       "3      7.5\n",
       "4     26.0\n",
       "5      5.5\n",
       "6      NaN\n",
       "7      8.5\n",
       "8     15.0\n",
       "9     20.5\n",
       "10     8.5\n",
       "11     7.0\n",
       "12    27.5\n",
       "13     NaN\n",
       "14    29.5\n",
       "15     9.5\n",
       "16    15.0\n",
       "17     NaN\n",
       "18     9.5\n",
       "19    22.0\n",
       "Name: price, dtype: float64"
      ]
     },
     "execution_count": 24,
     "metadata": {},
     "output_type": "execute_result"
    }
   ],
   "source": [
    "uber_data[\"price\"].head(20)"
   ]
  },
  {
   "cell_type": "code",
   "execution_count": 25,
   "id": "2e102229",
   "metadata": {},
   "outputs": [],
   "source": [
    "madian = uber_data[\"price\"].median()\n",
    "uber_data[\"price\"].fillna(madian, inplace=True)"
   ]
  },
  {
   "cell_type": "code",
   "execution_count": 26,
   "id": "455b1ac0",
   "metadata": {},
   "outputs": [
    {
     "data": {
      "text/plain": [
       "0     12.0\n",
       "1     16.0\n",
       "2      7.5\n",
       "3      7.5\n",
       "4     26.0\n",
       "5      5.5\n",
       "6     12.5\n",
       "7      8.5\n",
       "8     15.0\n",
       "9     20.5\n",
       "10     8.5\n",
       "11     7.0\n",
       "12    27.5\n",
       "13    12.5\n",
       "14    29.5\n",
       "15     9.5\n",
       "16    15.0\n",
       "17    12.5\n",
       "18     9.5\n",
       "19    22.0\n",
       "Name: price, dtype: float64"
      ]
     },
     "execution_count": 26,
     "metadata": {},
     "output_type": "execute_result"
    }
   ],
   "source": [
    "uber_data[\"price\"].head(20)"
   ]
  },
  {
   "cell_type": "markdown",
   "id": "3f51c681",
   "metadata": {},
   "source": [
    "# categorical values"
   ]
  },
  {
   "cell_type": "code",
   "execution_count": 27,
   "id": "1bff03de",
   "metadata": {},
   "outputs": [
    {
     "data": {
      "text/plain": [
       "UberXL       55096\n",
       "WAV          55096\n",
       "Black SUV    55096\n",
       "Black        55095\n",
       "Taxi         55095\n",
       "UberX        55094\n",
       "UberPool     55091\n",
       "Name: name, dtype: int64"
      ]
     },
     "execution_count": 27,
     "metadata": {},
     "output_type": "execute_result"
    }
   ],
   "source": [
    "uber_data[\"name\"].value_counts()"
   ]
  },
  {
   "cell_type": "code",
   "execution_count": 28,
   "id": "ace0f6fc",
   "metadata": {},
   "outputs": [
    {
     "data": {
      "text/plain": [
       "(385663, 43)"
      ]
     },
     "execution_count": 28,
     "metadata": {},
     "output_type": "execute_result"
    }
   ],
   "source": [
    "uber_data.shape"
   ]
  },
  {
   "cell_type": "code",
   "execution_count": 29,
   "id": "7e500e07",
   "metadata": {},
   "outputs": [],
   "source": [
    "uber_data = pd.get_dummies(uber_data,drop_first=False)"
   ]
  },
  {
   "cell_type": "code",
   "execution_count": 30,
   "id": "f98a21e6",
   "metadata": {},
   "outputs": [
    {
     "data": {
      "text/plain": [
       "(385663, 49)"
      ]
     },
     "execution_count": 30,
     "metadata": {},
     "output_type": "execute_result"
    }
   ],
   "source": [
    "uber_data.shape"
   ]
  },
  {
   "cell_type": "code",
   "execution_count": 31,
   "id": "4c4c0406",
   "metadata": {},
   "outputs": [
    {
     "data": {
      "text/html": [
       "<div>\n",
       "<style scoped>\n",
       "    .dataframe tbody tr th:only-of-type {\n",
       "        vertical-align: middle;\n",
       "    }\n",
       "\n",
       "    .dataframe tbody tr th {\n",
       "        vertical-align: top;\n",
       "    }\n",
       "\n",
       "    .dataframe thead th {\n",
       "        text-align: right;\n",
       "    }\n",
       "</style>\n",
       "<table border=\"1\" class=\"dataframe\">\n",
       "  <thead>\n",
       "    <tr style=\"text-align: right;\">\n",
       "      <th></th>\n",
       "      <th>hour</th>\n",
       "      <th>day</th>\n",
       "      <th>month</th>\n",
       "      <th>price</th>\n",
       "      <th>distance</th>\n",
       "      <th>temperature</th>\n",
       "      <th>apparentTemperature</th>\n",
       "      <th>precipIntensity</th>\n",
       "      <th>precipProbability</th>\n",
       "      <th>humidity</th>\n",
       "      <th>...</th>\n",
       "      <th>apparentTemperatureMinTime</th>\n",
       "      <th>apparentTemperatureMax</th>\n",
       "      <th>apparentTemperatureMaxTime</th>\n",
       "      <th>name_Black</th>\n",
       "      <th>name_Black SUV</th>\n",
       "      <th>name_Taxi</th>\n",
       "      <th>name_UberPool</th>\n",
       "      <th>name_UberX</th>\n",
       "      <th>name_UberXL</th>\n",
       "      <th>name_WAV</th>\n",
       "    </tr>\n",
       "  </thead>\n",
       "  <tbody>\n",
       "    <tr>\n",
       "      <th>0</th>\n",
       "      <td>22</td>\n",
       "      <td>30</td>\n",
       "      <td>11</td>\n",
       "      <td>12.0</td>\n",
       "      <td>1.11</td>\n",
       "      <td>40.13</td>\n",
       "      <td>38.08</td>\n",
       "      <td>0.0000</td>\n",
       "      <td>0.00</td>\n",
       "      <td>0.60</td>\n",
       "      <td>...</td>\n",
       "      <td>1543575600</td>\n",
       "      <td>40.53</td>\n",
       "      <td>1543611600</td>\n",
       "      <td>0</td>\n",
       "      <td>0</td>\n",
       "      <td>0</td>\n",
       "      <td>0</td>\n",
       "      <td>0</td>\n",
       "      <td>1</td>\n",
       "      <td>0</td>\n",
       "    </tr>\n",
       "    <tr>\n",
       "      <th>1</th>\n",
       "      <td>10</td>\n",
       "      <td>13</td>\n",
       "      <td>12</td>\n",
       "      <td>16.0</td>\n",
       "      <td>1.11</td>\n",
       "      <td>20.38</td>\n",
       "      <td>20.38</td>\n",
       "      <td>0.0000</td>\n",
       "      <td>0.00</td>\n",
       "      <td>0.66</td>\n",
       "      <td>...</td>\n",
       "      <td>1544688000</td>\n",
       "      <td>32.85</td>\n",
       "      <td>1544734800</td>\n",
       "      <td>1</td>\n",
       "      <td>0</td>\n",
       "      <td>0</td>\n",
       "      <td>0</td>\n",
       "      <td>0</td>\n",
       "      <td>0</td>\n",
       "      <td>0</td>\n",
       "    </tr>\n",
       "    <tr>\n",
       "      <th>2</th>\n",
       "      <td>19</td>\n",
       "      <td>13</td>\n",
       "      <td>12</td>\n",
       "      <td>7.5</td>\n",
       "      <td>1.11</td>\n",
       "      <td>32.85</td>\n",
       "      <td>32.85</td>\n",
       "      <td>0.0000</td>\n",
       "      <td>0.00</td>\n",
       "      <td>0.56</td>\n",
       "      <td>...</td>\n",
       "      <td>1544688000</td>\n",
       "      <td>32.85</td>\n",
       "      <td>1544734800</td>\n",
       "      <td>0</td>\n",
       "      <td>0</td>\n",
       "      <td>0</td>\n",
       "      <td>0</td>\n",
       "      <td>1</td>\n",
       "      <td>0</td>\n",
       "      <td>0</td>\n",
       "    </tr>\n",
       "    <tr>\n",
       "      <th>3</th>\n",
       "      <td>23</td>\n",
       "      <td>16</td>\n",
       "      <td>12</td>\n",
       "      <td>7.5</td>\n",
       "      <td>1.11</td>\n",
       "      <td>41.29</td>\n",
       "      <td>36.01</td>\n",
       "      <td>0.0567</td>\n",
       "      <td>0.94</td>\n",
       "      <td>0.86</td>\n",
       "      <td>...</td>\n",
       "      <td>1545019200</td>\n",
       "      <td>38.38</td>\n",
       "      <td>1544986800</td>\n",
       "      <td>0</td>\n",
       "      <td>0</td>\n",
       "      <td>0</td>\n",
       "      <td>0</td>\n",
       "      <td>0</td>\n",
       "      <td>0</td>\n",
       "      <td>1</td>\n",
       "    </tr>\n",
       "    <tr>\n",
       "      <th>4</th>\n",
       "      <td>0</td>\n",
       "      <td>14</td>\n",
       "      <td>12</td>\n",
       "      <td>26.0</td>\n",
       "      <td>1.11</td>\n",
       "      <td>31.25</td>\n",
       "      <td>31.25</td>\n",
       "      <td>0.0000</td>\n",
       "      <td>0.00</td>\n",
       "      <td>0.64</td>\n",
       "      <td>...</td>\n",
       "      <td>1544688000</td>\n",
       "      <td>32.85</td>\n",
       "      <td>1544734800</td>\n",
       "      <td>0</td>\n",
       "      <td>1</td>\n",
       "      <td>0</td>\n",
       "      <td>0</td>\n",
       "      <td>0</td>\n",
       "      <td>0</td>\n",
       "      <td>0</td>\n",
       "    </tr>\n",
       "  </tbody>\n",
       "</table>\n",
       "<p>5 rows × 49 columns</p>\n",
       "</div>"
      ],
      "text/plain": [
       "   hour  day  month  price  distance  temperature  apparentTemperature  \\\n",
       "0    22   30     11   12.0      1.11        40.13                38.08   \n",
       "1    10   13     12   16.0      1.11        20.38                20.38   \n",
       "2    19   13     12    7.5      1.11        32.85                32.85   \n",
       "3    23   16     12    7.5      1.11        41.29                36.01   \n",
       "4     0   14     12   26.0      1.11        31.25                31.25   \n",
       "\n",
       "   precipIntensity  precipProbability  humidity  ...  \\\n",
       "0           0.0000               0.00      0.60  ...   \n",
       "1           0.0000               0.00      0.66  ...   \n",
       "2           0.0000               0.00      0.56  ...   \n",
       "3           0.0567               0.94      0.86  ...   \n",
       "4           0.0000               0.00      0.64  ...   \n",
       "\n",
       "   apparentTemperatureMinTime  apparentTemperatureMax  \\\n",
       "0                  1543575600                   40.53   \n",
       "1                  1544688000                   32.85   \n",
       "2                  1544688000                   32.85   \n",
       "3                  1545019200                   38.38   \n",
       "4                  1544688000                   32.85   \n",
       "\n",
       "   apparentTemperatureMaxTime  name_Black  name_Black SUV  name_Taxi  \\\n",
       "0                  1543611600           0               0          0   \n",
       "1                  1544734800           1               0          0   \n",
       "2                  1544734800           0               0          0   \n",
       "3                  1544986800           0               0          0   \n",
       "4                  1544734800           0               1          0   \n",
       "\n",
       "   name_UberPool  name_UberX  name_UberXL  name_WAV  \n",
       "0              0           0            1         0  \n",
       "1              0           0            0         0  \n",
       "2              0           1            0         0  \n",
       "3              0           0            0         1  \n",
       "4              0           0            0         0  \n",
       "\n",
       "[5 rows x 49 columns]"
      ]
     },
     "execution_count": 31,
     "metadata": {},
     "output_type": "execute_result"
    }
   ],
   "source": [
    "uber_data.head()"
   ]
  },
  {
   "cell_type": "code",
   "execution_count": 32,
   "id": "85436184",
   "metadata": {},
   "outputs": [
    {
     "name": "stdout",
     "output_type": "stream",
     "text": [
      "<class 'pandas.core.frame.DataFrame'>\n",
      "Int64Index: 385663 entries, 0 to 385662\n",
      "Data columns (total 49 columns):\n",
      " #   Column                       Non-Null Count   Dtype  \n",
      "---  ------                       --------------   -----  \n",
      " 0   hour                         385663 non-null  int64  \n",
      " 1   day                          385663 non-null  int64  \n",
      " 2   month                        385663 non-null  int64  \n",
      " 3   price                        385663 non-null  float64\n",
      " 4   distance                     385663 non-null  float64\n",
      " 5   temperature                  385663 non-null  float64\n",
      " 6   apparentTemperature          385663 non-null  float64\n",
      " 7   precipIntensity              385663 non-null  float64\n",
      " 8   precipProbability            385663 non-null  float64\n",
      " 9   humidity                     385663 non-null  float64\n",
      " 10  windSpeed                    385663 non-null  float64\n",
      " 11  windGust                     385663 non-null  float64\n",
      " 12  windGustTime                 385663 non-null  int64  \n",
      " 13  visibility                   385663 non-null  float64\n",
      " 14  temperatureHigh              385663 non-null  float64\n",
      " 15  temperatureHighTime          385663 non-null  int64  \n",
      " 16  temperatureLow               385663 non-null  float64\n",
      " 17  temperatureLowTime           385663 non-null  int64  \n",
      " 18  apparentTemperatureHigh      385663 non-null  float64\n",
      " 19  apparentTemperatureHighTime  385663 non-null  int64  \n",
      " 20  apparentTemperatureLow       385663 non-null  float64\n",
      " 21  apparentTemperatureLowTime   385663 non-null  int64  \n",
      " 22  dewPoint                     385663 non-null  float64\n",
      " 23  pressure                     385663 non-null  float64\n",
      " 24  windBearing                  385663 non-null  int64  \n",
      " 25  cloudCover                   385663 non-null  float64\n",
      " 26  uvIndex                      385663 non-null  int64  \n",
      " 27  visibility.1                 385663 non-null  float64\n",
      " 28  ozone                        385663 non-null  float64\n",
      " 29  sunriseTime                  385663 non-null  int64  \n",
      " 30  sunsetTime                   385663 non-null  int64  \n",
      " 31  moonPhase                    385663 non-null  float64\n",
      " 32  precipIntensityMax           385663 non-null  float64\n",
      " 33  uvIndexTime                  385663 non-null  int64  \n",
      " 34  temperatureMin               385663 non-null  float64\n",
      " 35  temperatureMinTime           385663 non-null  int64  \n",
      " 36  temperatureMax               385663 non-null  float64\n",
      " 37  temperatureMaxTime           385663 non-null  int64  \n",
      " 38  apparentTemperatureMin       385663 non-null  float64\n",
      " 39  apparentTemperatureMinTime   385663 non-null  int64  \n",
      " 40  apparentTemperatureMax       385663 non-null  float64\n",
      " 41  apparentTemperatureMaxTime   385663 non-null  int64  \n",
      " 42  name_Black                   385663 non-null  uint8  \n",
      " 43  name_Black SUV               385663 non-null  uint8  \n",
      " 44  name_Taxi                    385663 non-null  uint8  \n",
      " 45  name_UberPool                385663 non-null  uint8  \n",
      " 46  name_UberX                   385663 non-null  uint8  \n",
      " 47  name_UberXL                  385663 non-null  uint8  \n",
      " 48  name_WAV                     385663 non-null  uint8  \n",
      "dtypes: float64(25), int64(17), uint8(7)\n",
      "memory usage: 129.1 MB\n"
     ]
    }
   ],
   "source": [
    "uber_data.info()"
   ]
  },
  {
   "cell_type": "markdown",
   "id": "7b61bcff",
   "metadata": {},
   "source": [
    "# split the data\n"
   ]
  },
  {
   "cell_type": "code",
   "execution_count": 33,
   "id": "ef88df82",
   "metadata": {},
   "outputs": [],
   "source": [
    "X = uber_data.drop(columns=\"price\").values\n",
    "Y = uber_data[\"price\"].values.reshape(-1,1)"
   ]
  },
  {
   "cell_type": "code",
   "execution_count": 34,
   "id": "1462d15b",
   "metadata": {},
   "outputs": [],
   "source": [
    "from sklearn.model_selection import train_test_split\n",
    "x_train, x_test, y_train, y_test = train_test_split(X, Y, test_size=0.2, random_state=42)"
   ]
  },
  {
   "cell_type": "code",
   "execution_count": 35,
   "id": "7c47be77",
   "metadata": {},
   "outputs": [],
   "source": [
    "from sklearn.preprocessing import StandardScaler\n",
    "scaler_x = StandardScaler()\n",
    "scaler_y = StandardScaler()\n",
    "\n",
    "x_train = scaler_x.fit_transform(x_train)\n",
    "y_train = scaler_y.fit_transform(y_train)\n",
    "\n",
    "x_test = scaler_x.transform(x_test)\n"
   ]
  },
  {
   "cell_type": "code",
   "execution_count": 36,
   "id": "eb2d2a5c",
   "metadata": {},
   "outputs": [
    {
     "data": {
      "text/plain": [
       "array([[-1.24020633,  0.92205328, -1.19189829, ...,  2.44718141,\n",
       "        -0.40785533, -0.40869818],\n",
       "       [ 1.35164169,  0.92205328, -1.19189829, ..., -0.40863338,\n",
       "        -0.40785533, -0.40869818],\n",
       "       [ 0.34370079, -1.58419026,  0.83899776, ..., -0.40863338,\n",
       "         2.45184979, -0.40869818],\n",
       "       ...,\n",
       "       [ 0.05571768, -0.08044414,  0.83899776, ..., -0.40863338,\n",
       "        -0.40785533,  2.44679335],\n",
       "       [ 0.19970924,  1.02230302, -1.19189829, ..., -0.40863338,\n",
       "        -0.40785533,  2.44679335],\n",
       "       [ 0.91966702,  0.0198056 ,  0.83899776, ..., -0.40863338,\n",
       "        -0.40785533,  2.44679335]])"
      ]
     },
     "execution_count": 36,
     "metadata": {},
     "output_type": "execute_result"
    }
   ],
   "source": [
    "x_train"
   ]
  },
  {
   "cell_type": "code",
   "execution_count": 37,
   "id": "e833b096",
   "metadata": {},
   "outputs": [
    {
     "data": {
      "text/plain": [
       "array([[16. ],\n",
       "       [ 7.5],\n",
       "       [13. ],\n",
       "       ...,\n",
       "       [10.5],\n",
       "       [ 8.5],\n",
       "       [12.5]])"
      ]
     },
     "execution_count": 37,
     "metadata": {},
     "output_type": "execute_result"
    }
   ],
   "source": [
    "y_test"
   ]
  },
  {
   "cell_type": "code",
   "execution_count": 38,
   "id": "2f3b1941",
   "metadata": {},
   "outputs": [
    {
     "data": {
      "text/plain": [
       "array([[-0.37625699, -1.48394052,  0.83899776, ..., -0.40863338,\n",
       "         2.45184979, -0.40869818],\n",
       "       [-0.52024855,  0.0198056 ,  0.83899776, ..., -0.40863338,\n",
       "        -0.40785533, -0.40869818],\n",
       "       [ 1.6396248 ,  1.02230302, -1.19189829, ..., -0.40863338,\n",
       "         2.45184979, -0.40869818],\n",
       "       ...,\n",
       "       [ 1.49563325, -0.28094362,  0.83899776, ...,  2.44718141,\n",
       "        -0.40785533, -0.40869818],\n",
       "       [ 0.91966702, -1.68444001,  0.83899776, ...,  2.44718141,\n",
       "        -0.40785533, -0.40869818],\n",
       "       [ 0.63168391,  0.82180354, -1.19189829, ..., -0.40863338,\n",
       "        -0.40785533, -0.40869818]])"
      ]
     },
     "execution_count": 38,
     "metadata": {},
     "output_type": "execute_result"
    }
   ],
   "source": [
    "x_test"
   ]
  },
  {
   "cell_type": "code",
   "execution_count": null,
   "id": "ef8ef8ad",
   "metadata": {},
   "outputs": [],
   "source": []
  }
 ],
 "metadata": {
  "kernelspec": {
   "display_name": "Python 3 (ipykernel)",
   "language": "python",
   "name": "python3"
  },
  "language_info": {
   "codemirror_mode": {
    "name": "ipython",
    "version": 3
   },
   "file_extension": ".py",
   "mimetype": "text/x-python",
   "name": "python",
   "nbconvert_exporter": "python",
   "pygments_lexer": "ipython3",
   "version": "3.10.2"
  }
 },
 "nbformat": 4,
 "nbformat_minor": 5
}
